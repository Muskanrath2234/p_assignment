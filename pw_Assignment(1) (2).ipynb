{
 "cells": [
  {
   "cell_type": "markdown",
   "id": "21c0275d",
   "metadata": {},
   "source": [
    "# Q.1 Create one variable containing following type of data:\n"
   ]
  },
  {
   "cell_type": "markdown",
   "id": "010a9ebb",
   "metadata": {},
   "source": [
    "### String "
   ]
  },
  {
   "cell_type": "code",
   "execution_count": 14,
   "id": "f26a80ae",
   "metadata": {},
   "outputs": [
    {
     "data": {
      "text/plain": [
       "'python'"
      ]
     },
     "execution_count": 14,
     "metadata": {},
     "output_type": "execute_result"
    }
   ],
   "source": [
    "p = 'python'\n",
    "p"
   ]
  },
  {
   "cell_type": "markdown",
   "id": "50e3e9ba",
   "metadata": {},
   "source": [
    "### list "
   ]
  },
  {
   "cell_type": "markdown",
   "id": "01981636",
   "metadata": {},
   "source": [
    "my_list = [7,17,2.5,'ms', True]\n",
    "my_list"
   ]
  },
  {
   "cell_type": "markdown",
   "id": "5501b5c6",
   "metadata": {},
   "source": [
    "### float "
   ]
  },
  {
   "cell_type": "code",
   "execution_count": 11,
   "id": "9a42189e",
   "metadata": {},
   "outputs": [
    {
     "data": {
      "text/plain": [
       "9.6"
      ]
     },
     "execution_count": 11,
     "metadata": {},
     "output_type": "execute_result"
    }
   ],
   "source": [
    "F_value = 9.6\n",
    "F_value"
   ]
  },
  {
   "cell_type": "markdown",
   "id": "d28cef95",
   "metadata": {},
   "source": [
    "### tuple"
   ]
  },
  {
   "cell_type": "code",
   "execution_count": 17,
   "id": "e840fb6f",
   "metadata": {},
   "outputs": [
    {
     "data": {
      "text/plain": [
       "(2, 5, 7.7)"
      ]
     },
     "execution_count": 17,
     "metadata": {},
     "output_type": "execute_result"
    }
   ],
   "source": [
    "Tuple  =  (2,5,7.7)\n",
    "Tuple"
   ]
  },
  {
   "cell_type": "markdown",
   "id": "3ba69e3e",
   "metadata": {},
   "source": [
    "# Q.2 Given are some following variables containing data :\n"
   ]
  },
  {
   "cell_type": "markdown",
   "id": "f26ca522",
   "metadata": {},
   "source": [
    "### var1=' '"
   ]
  },
  {
   "cell_type": "markdown",
   "id": "ebf8ed45",
   "metadata": {},
   "source": [
    "it is a string-type variable(str). we have used double or single quotes to represent string ."
   ]
  },
  {
   "cell_type": "markdown",
   "id": "7963791a",
   "metadata": {},
   "source": [
    "###  var2='[DS,ML,Python]'"
   ]
  },
  {
   "cell_type": "markdown",
   "id": "61cce476",
   "metadata": {},
   "source": [
    "it is a string-type variable. "
   ]
  },
  {
   "cell_type": "markdown",
   "id": "a04ecc6a",
   "metadata": {},
   "source": [
    "### var3 =['DS','ML','Python']"
   ]
  },
  {
   "cell_type": "markdown",
   "id": "d1ade8eb",
   "metadata": {},
   "source": [
    "it is a list type varible "
   ]
  },
  {
   "cell_type": "markdown",
   "id": "e6ce3288",
   "metadata": {},
   "source": [
    "### var4= 1."
   ]
  },
  {
   "cell_type": "markdown",
   "id": "ccba80e1",
   "metadata": {},
   "source": [
    "it is a int type variblale."
   ]
  },
  {
   "cell_type": "markdown",
   "id": "abd31938",
   "metadata": {},
   "source": [
    "### Q.4 Create a list of length 10 of  your choice cointaing multiple types of data. using for loop print the element and its data type."
   ]
  },
  {
   "cell_type": "code",
   "execution_count": 38,
   "id": "829265ab",
   "metadata": {},
   "outputs": [
    {
     "name": "stdout",
     "output_type": "stream",
     "text": [
      "45\n",
      "<class 'int'>\n",
      "5.6\n",
      "<class 'float'>\n",
      "jay\n",
      "<class 'str'>\n",
      "True\n",
      "<class 'bool'>\n",
      "False\n",
      "<class 'bool'>\n",
      "9\n",
      "<class 'int'>\n",
      "9.6\n",
      "<class 'float'>\n",
      "sita\n",
      "<class 'str'>\n",
      "ram\n",
      "<class 'str'>\n",
      "2\n",
      "<class 'int'>\n"
     ]
    }
   ],
   "source": [
    "a= [45,5.6,'jay',True,False,9,9.6,'sita','ram',2]\n",
    "for i in a:\n",
    "    print(i)\n",
    "    print(type(i))"
   ]
  },
  {
   "cell_type": "markdown",
   "id": "ed514180",
   "metadata": {},
   "source": [
    "## Q.3 Expain following operator "
   ]
  },
  {
   "cell_type": "code",
   "execution_count": 30,
   "id": "8100412c",
   "metadata": {},
   "outputs": [
    {
     "data": {
      "text/plain": [
       "2.0"
      ]
     },
     "execution_count": 30,
     "metadata": {},
     "output_type": "execute_result"
    }
   ],
   "source": [
    " #1. Division(/)\n",
    "d= 4/2\n",
    "d"
   ]
  },
  {
   "cell_type": "code",
   "execution_count": 1,
   "id": "fded4d03",
   "metadata": {},
   "outputs": [
    {
     "data": {
      "text/plain": [
       "1"
      ]
     },
     "execution_count": 1,
     "metadata": {},
     "output_type": "execute_result"
    }
   ],
   "source": [
    "#2 modulus (%) it give remainder value\n",
    "m =5%2\n",
    "m\n",
    "\n"
   ]
  },
  {
   "cell_type": "code",
   "execution_count": 33,
   "id": "d0c3876b",
   "metadata": {},
   "outputs": [
    {
     "data": {
      "text/plain": [
       "3"
      ]
     },
     "execution_count": 33,
     "metadata": {},
     "output_type": "execute_result"
    }
   ],
   "source": [
    "#3. flor division (//)\n",
    "f = 7//2\n",
    "f"
   ]
  },
  {
   "cell_type": "code",
   "execution_count": 35,
   "id": "1e393075",
   "metadata": {},
   "outputs": [
    {
     "data": {
      "text/plain": [
       "729"
      ]
     },
     "execution_count": 35,
     "metadata": {},
     "output_type": "execute_result"
    }
   ],
   "source": [
    "#4. ** used for power calculation\n",
    "p = 9**3\n",
    "p"
   ]
  },
  {
   "cell_type": "markdown",
   "id": "041b2dc2",
   "metadata": {},
   "source": [
    "## Q.5 using a while loop. Verify if the number A is purely divisible by number B and if so then how many times it can be divisible."
   ]
  },
  {
   "cell_type": "code",
   "execution_count": 57,
   "id": "11185290",
   "metadata": {},
   "outputs": [
    {
     "name": "stdout",
     "output_type": "stream",
     "text": [
      "A  is purely divisible 6 times\n"
     ]
    }
   ],
   "source": [
    "A= 64\n",
    "B=2\n",
    "i =0\n",
    "while A%B ==0:\n",
    "    A=A/B\n",
    "    i=i+1\n",
    "if A==1:\n",
    "    print(\"A  is purely divisible\", i, \"times\")\n",
    "else:\n",
    "    print(\"not divisible\")\n"
   ]
  },
  {
   "cell_type": "markdown",
   "id": "0abc979f",
   "metadata": {},
   "source": [
    " ## Q.6 Create a list containing 25 int type data  item. using for loop and if condition print if the element is divisible by 3 or not \n"
   ]
  },
  {
   "cell_type": "code",
   "execution_count": 63,
   "id": "a92c9902",
   "metadata": {},
   "outputs": [
    {
     "name": "stdout",
     "output_type": "stream",
     "text": [
      "1 not divisible by 3\n",
      "2 not divisible by 3\n",
      "3 is divisible by 3 \n",
      "4 not divisible by 3\n",
      "5 not divisible by 3\n",
      "6 is divisible by 3 \n",
      "7 not divisible by 3\n",
      "8 not divisible by 3\n",
      "9 is divisible by 3 \n",
      "10 not divisible by 3\n",
      "11 not divisible by 3\n",
      "12 is divisible by 3 \n",
      "13 not divisible by 3\n",
      "14 not divisible by 3\n",
      "15 is divisible by 3 \n",
      "16 not divisible by 3\n",
      "17 not divisible by 3\n",
      "18 is divisible by 3 \n",
      "19 not divisible by 3\n",
      "20 not divisible by 3\n",
      "21 is divisible by 3 \n",
      "22 not divisible by 3\n",
      "23 not divisible by 3\n",
      "24 is divisible by 3 \n",
      "25 not divisible by 3\n"
     ]
    }
   ],
   "source": [
    "N = [1,2,3,4,5,6,7,8,9,10,11,12,13,14,15,16,17,18,19,20,21,22,23,24,25]\n",
    "for i in N:\n",
    "    if i%3 ==0:\n",
    "        print(i, \"is divisible by 3 \")\n",
    "    else:\n",
    "        print(i, \"not divisible by 3\",)\n"
   ]
  },
  {
   "cell_type": "markdown",
   "id": "ac01bd81",
   "metadata": {},
   "source": [
    "## Q.7 What do you understand about mutable and immutable data types? Give examples for both this property."
   ]
  },
  {
   "cell_type": "markdown",
   "id": "c86a5833",
   "metadata": {},
   "source": [
    "### Mutable :- mutable object can be changed after it is created  without changing its identity .\n",
    "###    Examples: list ,set\n",
    "            "
   ]
  },
  {
   "cell_type": "markdown",
   "id": "a61c1c3b",
   "metadata": {},
   "source": [
    "### Immutable :- immutable datatypes are objects that cannot be modified after they have been created.\n",
    "###  Examples:- int, string , complex "
   ]
  },
  {
   "cell_type": "code",
   "execution_count": 72,
   "id": "4cd944e8",
   "metadata": {},
   "outputs": [
    {
     "data": {
      "text/plain": [
       "[2, 8, 'apple']"
      ]
     },
     "execution_count": 72,
     "metadata": {},
     "output_type": "execute_result"
    }
   ],
   "source": [
    "my_list = [2, 5,'apple']\n",
    "my_list[1]=8\n",
    "my_list "
   ]
  },
  {
   "cell_type": "code",
   "execution_count": 75,
   "id": "6eaf5b05",
   "metadata": {},
   "outputs": [
    {
     "data": {
      "text/plain": [
       "'t'"
      ]
     },
     "execution_count": 75,
     "metadata": {},
     "output_type": "execute_result"
    }
   ],
   "source": [
    "s = 'nootbook'\n",
    "s[3]"
   ]
  },
  {
   "cell_type": "code",
   "execution_count": 76,
   "id": "4e070640",
   "metadata": {},
   "outputs": [
    {
     "ename": "TypeError",
     "evalue": "'str' object does not support item assignment",
     "output_type": "error",
     "traceback": [
      "\u001b[1;31m---------------------------------------------------------------------------\u001b[0m",
      "\u001b[1;31mTypeError\u001b[0m                                 Traceback (most recent call last)",
      "Cell \u001b[1;32mIn[76], line 1\u001b[0m\n\u001b[1;32m----> 1\u001b[0m s[\u001b[38;5;241m3\u001b[39m]\u001b[38;5;241m=\u001b[39m i\n",
      "\u001b[1;31mTypeError\u001b[0m: 'str' object does not support item assignment"
     ]
    }
   ],
   "source": [
    "s[3]= i"
   ]
  },
  {
   "cell_type": "code",
   "execution_count": null,
   "id": "430b64df",
   "metadata": {},
   "outputs": [],
   "source": []
  }
 ],
 "metadata": {
  "kernelspec": {
   "display_name": "Python 3 (ipykernel)",
   "language": "python",
   "name": "python3"
  },
  "language_info": {
   "codemirror_mode": {
    "name": "ipython",
    "version": 3
   },
   "file_extension": ".py",
   "mimetype": "text/x-python",
   "name": "python",
   "nbconvert_exporter": "python",
   "pygments_lexer": "ipython3",
   "version": "3.10.9"
  }
 },
 "nbformat": 4,
 "nbformat_minor": 5
}
