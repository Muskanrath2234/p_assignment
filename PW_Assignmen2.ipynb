{
 "cells": [
  {
   "cell_type": "markdown",
   "id": "15e86132",
   "metadata": {},
   "source": [
    "#### Q1. How Do you comment code in python ?what are Different type of comment?\n",
    "Ans:- Comment are generally just like information about your code whose does not execute. There are two types of comment:-\n",
    "\n",
    "single line comment(#)"
   ]
  },
  {
   "cell_type": "code",
   "execution_count": 2,
   "id": "e87354fe",
   "metadata": {},
   "outputs": [],
   "source": [
    "#THIS IS COMMENT"
   ]
  },
  {
   "cell_type": "markdown",
   "id": "32b909c5",
   "metadata": {},
   "source": [
    "2.Multiline Comment(''' ''')"
   ]
  },
  {
   "cell_type": "code",
   "execution_count": 7,
   "id": "c6db970a",
   "metadata": {},
   "outputs": [
    {
     "ename": "SyntaxError",
     "evalue": "unterminated string literal (detected at line 1) (3404681332.py, line 1)",
     "output_type": "error",
     "traceback": [
      "\u001b[1;36m  Cell \u001b[1;32mIn[7], line 1\u001b[1;36m\u001b[0m\n\u001b[1;33m    \" \" \"\u001b[0m\n\u001b[1;37m        ^\u001b[0m\n\u001b[1;31mSyntaxError\u001b[0m\u001b[1;31m:\u001b[0m unterminated string literal (detected at line 1)\n"
     ]
    }
   ],
   "source": [
    "\n",
    "this is our comment\n",
    "in python \n",
    "\" \" \" "
   ]
  },
  {
   "cell_type": "markdown",
   "id": "d6092005",
   "metadata": {},
   "source": [
    "Q2. What are variables in python? How do you declare and assign value to variable ?\n",
    "\n",
    "Ans:- variable:- variables are just like container whose contain the value. Declaration of variable:- variable are declare with alphanumeric,aphabets but not numeric.\n",
    "\n"
   ]
  },
  {
   "cell_type": "code",
   "execution_count": 8,
   "id": "fc79f979",
   "metadata": {},
   "outputs": [
    {
     "data": {
      "text/plain": [
       "'muskan'"
      ]
     },
     "execution_count": 8,
     "metadata": {},
     "output_type": "execute_result"
    }
   ],
   "source": [
    "a=\"muskan\"\n",
    "a"
   ]
  },
  {
   "cell_type": "code",
   "execution_count": 9,
   "id": "108f2bc5",
   "metadata": {},
   "outputs": [
    {
     "data": {
      "text/plain": [
       "'Rathore'"
      ]
     },
     "execution_count": 9,
     "metadata": {},
     "output_type": "execute_result"
    }
   ],
   "source": [
    "a1=\"Rathore\"\n",
    "a1"
   ]
  },
  {
   "cell_type": "code",
   "execution_count": 10,
   "id": "fbe20616",
   "metadata": {},
   "outputs": [
    {
     "name": "stderr",
     "output_type": "stream",
     "text": [
      "UsageError: Line magic function `%s=\"harry\"` not found.\n"
     ]
    }
   ],
   "source": [
    "%s=\"harry\" #Error It is not way to declare Variable\n",
    "%s"
   ]
  },
  {
   "cell_type": "code",
   "execution_count": 12,
   "id": "7fdfb0ec",
   "metadata": {},
   "outputs": [
    {
     "ename": "SyntaxError",
     "evalue": "cannot assign to literal here. Maybe you meant '==' instead of '='? (2764287356.py, line 1)",
     "output_type": "error",
     "traceback": [
      "\u001b[1;36m  Cell \u001b[1;32mIn[12], line 1\u001b[1;36m\u001b[0m\n\u001b[1;33m    1=\"muskan\"#Error It is not way to declare Variable\u001b[0m\n\u001b[1;37m    ^\u001b[0m\n\u001b[1;31mSyntaxError\u001b[0m\u001b[1;31m:\u001b[0m cannot assign to literal here. Maybe you meant '==' instead of '='?\n"
     ]
    }
   ],
   "source": [
    "1=\"muskan\"#Error It is not way to declare Variable\n",
    "1"
   ]
  },
  {
   "cell_type": "markdown",
   "id": "8d36d7d5",
   "metadata": {},
   "source": [
    "Q3.How do you convert one data type in python"
   ]
  },
  {
   "cell_type": "code",
   "execution_count": 19,
   "id": "f923cf1b",
   "metadata": {},
   "outputs": [
    {
     "name": "stdout",
     "output_type": "stream",
     "text": [
      "561\n"
     ]
    }
   ],
   "source": [
    "a=561#Integer\n",
    "print(a)"
   ]
  },
  {
   "cell_type": "code",
   "execution_count": 20,
   "id": "0ae03698",
   "metadata": {},
   "outputs": [
    {
     "data": {
      "text/plain": [
       "int"
      ]
     },
     "execution_count": 20,
     "metadata": {},
     "output_type": "execute_result"
    }
   ],
   "source": [
    "type(a)"
   ]
  },
  {
   "cell_type": "code",
   "execution_count": 21,
   "id": "dc17bdac",
   "metadata": {},
   "outputs": [
    {
     "data": {
      "text/plain": [
       "'561'"
      ]
     },
     "execution_count": 21,
     "metadata": {},
     "output_type": "execute_result"
    }
   ],
   "source": [
    "str(a)    "
   ]
  },
  {
   "cell_type": "code",
   "execution_count": 22,
   "id": "6aad152b",
   "metadata": {},
   "outputs": [
    {
     "data": {
      "text/plain": [
       "int"
      ]
     },
     "execution_count": 22,
     "metadata": {},
     "output_type": "execute_result"
    }
   ],
   "source": [
    "type(a)"
   ]
  },
  {
   "cell_type": "code",
   "execution_count": 23,
   "id": "64cd862d",
   "metadata": {},
   "outputs": [
    {
     "data": {
      "text/plain": [
       "str"
      ]
     },
     "execution_count": 23,
     "metadata": {},
     "output_type": "execute_result"
    }
   ],
   "source": [
    "type(str(a))"
   ]
  },
  {
   "cell_type": "markdown",
   "id": "1fa1b115",
   "metadata": {},
   "source": [
    "This is conversion of Int To string"
   ]
  },
  {
   "cell_type": "markdown",
   "id": "f1fc1dff",
   "metadata": {},
   "source": [
    "Q4. How do you write and Execute a python script from the command line ?"
   ]
  },
  {
   "cell_type": "markdown",
   "id": "b271a75c",
   "metadata": {},
   "source": [
    "To write and execute a Python script from the command line, follow these steps:\n",
    "\n",
    "Open a text editor and create a new file. Save it with a .py extension, for example, \"script.py\". This will be your Python script file.\n",
    "\n",
    "Open the command line or terminal on your operating system. The process may vary depending on your operating system:\n",
    "\n",
    "Windows: Press the Windows key, type \"Command Prompt\" or \"cmd\" in the search bar, and open the Command Prompt application."
   ]
  },
  {
   "cell_type": "code",
   "execution_count": 24,
   "id": "e2a55ed3",
   "metadata": {},
   "outputs": [
    {
     "ename": "SyntaxError",
     "evalue": "invalid syntax (853240662.py, line 1)",
     "output_type": "error",
     "traceback": [
      "\u001b[1;36m  Cell \u001b[1;32mIn[24], line 1\u001b[1;36m\u001b[0m\n\u001b[1;33m    python script.py\u001b[0m\n\u001b[1;37m           ^\u001b[0m\n\u001b[1;31mSyntaxError\u001b[0m\u001b[1;31m:\u001b[0m invalid syntax\n"
     ]
    }
   ],
   "source": [
    "python script.py"
   ]
  },
  {
   "cell_type": "markdown",
   "id": "f2066f55",
   "metadata": {},
   "source": [
    "Q5.Given a list my_list =[1,2,3,4,5], write the code to slicethe vlist and obtainthe sublist[2,3]"
   ]
  },
  {
   "cell_type": "code",
   "execution_count": 25,
   "id": "6429e2b3",
   "metadata": {},
   "outputs": [
    {
     "data": {
      "text/plain": [
       "[2, 3]"
      ]
     },
     "execution_count": 25,
     "metadata": {},
     "output_type": "execute_result"
    }
   ],
   "source": [
    "my_list=[1,2,3,4,5]\n",
    "my_list[1:3]"
   ]
  },
  {
   "cell_type": "markdown",
   "id": "a5093803",
   "metadata": {},
   "source": [
    "Q6.what is complex no. in mathematics and how it is represented in python?"
   ]
  },
  {
   "cell_type": "code",
   "execution_count": 27,
   "id": "6f6e9bd0",
   "metadata": {},
   "outputs": [
    {
     "data": {
      "text/plain": [
       "complex"
      ]
     },
     "execution_count": 27,
     "metadata": {},
     "output_type": "execute_result"
    }
   ],
   "source": [
    "a=5+8j\n",
    "type(a)"
   ]
  },
  {
   "cell_type": "code",
   "execution_count": 28,
   "id": "073f176d",
   "metadata": {},
   "outputs": [
    {
     "data": {
      "text/plain": [
       "8.0"
      ]
     },
     "execution_count": 28,
     "metadata": {},
     "output_type": "execute_result"
    }
   ],
   "source": [
    "a.imag"
   ]
  },
  {
   "cell_type": "code",
   "execution_count": 29,
   "id": "c1845846",
   "metadata": {},
   "outputs": [
    {
     "data": {
      "text/plain": [
       "5.0"
      ]
     },
     "execution_count": 29,
     "metadata": {},
     "output_type": "execute_result"
    }
   ],
   "source": [
    "a.real"
   ]
  },
  {
   "cell_type": "markdown",
   "id": "f9b1fc09",
   "metadata": {},
   "source": [
    "Q7 What are the correct way to declare a variable named age and assign the value 25 to it?"
   ]
  },
  {
   "cell_type": "code",
   "execution_count": 30,
   "id": "f7421199",
   "metadata": {},
   "outputs": [
    {
     "data": {
      "text/plain": [
       "25"
      ]
     },
     "execution_count": 30,
     "metadata": {},
     "output_type": "execute_result"
    }
   ],
   "source": [
    "#Variable name is understandable by anyone and easily identify the real meaning of variable in particular code\n",
    "age=25\n",
    "age"
   ]
  },
  {
   "cell_type": "markdown",
   "id": "c82df1ee",
   "metadata": {},
   "source": [
    "Q8.Declare the variable named price and assign the value 9.99to it.what data type this variable belonds to it?"
   ]
  },
  {
   "cell_type": "code",
   "execution_count": 31,
   "id": "84eec94f",
   "metadata": {},
   "outputs": [
    {
     "data": {
      "text/plain": [
       "float"
      ]
     },
     "execution_count": 31,
     "metadata": {},
     "output_type": "execute_result"
    }
   ],
   "source": [
    "price=9.99\n",
    "type(price)"
   ]
  },
  {
   "cell_type": "markdown",
   "id": "fa3ee3d9",
   "metadata": {},
   "source": [
    "Q9. Create a variable named name and assign the full name to it as string .How would you print the value of this variable?"
   ]
  },
  {
   "cell_type": "code",
   "execution_count": 32,
   "id": "fb7d2eae",
   "metadata": {},
   "outputs": [
    {
     "name": "stdout",
     "output_type": "stream",
     "text": [
      "Muskan Rathore\n",
      "<class 'str'>\n"
     ]
    }
   ],
   "source": [
    "Name=\"Muskan Rathore\"\n",
    "print(Name)\n",
    "print(type(Name))"
   ]
  },
  {
   "cell_type": "markdown",
   "id": "855423b7",
   "metadata": {},
   "source": [
    "Q10. Given the string \"hello world\",extract the substring \"world\""
   ]
  },
  {
   "cell_type": "code",
   "execution_count": 33,
   "id": "532ec79e",
   "metadata": {},
   "outputs": [
    {
     "data": {
      "text/plain": [
       "'World'"
      ]
     },
     "execution_count": 33,
     "metadata": {},
     "output_type": "execute_result"
    }
   ],
   "source": [
    "string=\"Hello,World!\"\n",
    "string[6:11]"
   ]
  },
  {
   "cell_type": "code",
   "execution_count": 34,
   "id": "e0eaee53",
   "metadata": {},
   "outputs": [
    {
     "data": {
      "text/plain": [
       "'World'"
      ]
     },
     "execution_count": 34,
     "metadata": {},
     "output_type": "execute_result"
    }
   ],
   "source": [
    "string[-6:-1]"
   ]
  },
  {
   "cell_type": "markdown",
   "id": "d4af6bda",
   "metadata": {},
   "source": [
    "Q.11 Create a variable named is \"is_student\" and assign it a boolean value indicating whether you arr currently student or not"
   ]
  },
  {
   "cell_type": "code",
   "execution_count": 35,
   "id": "d0a0bf6e",
   "metadata": {},
   "outputs": [
    {
     "name": "stdout",
     "output_type": "stream",
     "text": [
      "ENTER ONLY BOOLEAN VALUE56\n",
      "PRINT YOU ARE STUDENT\n"
     ]
    }
   ],
   "source": [
    "is_student=bool(input(\"ENTER ONLY BOOLEAN VALUE\"))\n",
    "if is_student==True:\n",
    "    print(\"PRINT YOU ARE STUDENT\")\n",
    "else:\n",
    "    print(\"NOT\")"
   ]
  },
  {
   "cell_type": "code",
   "execution_count": null,
   "id": "cfdc68b0",
   "metadata": {},
   "outputs": [],
   "source": []
  }
 ],
 "metadata": {
  "kernelspec": {
   "display_name": "Python 3 (ipykernel)",
   "language": "python",
   "name": "python3"
  },
  "language_info": {
   "codemirror_mode": {
    "name": "ipython",
    "version": 3
   },
   "file_extension": ".py",
   "mimetype": "text/x-python",
   "name": "python",
   "nbconvert_exporter": "python",
   "pygments_lexer": "ipython3",
   "version": "3.10.9"
  }
 },
 "nbformat": 4,
 "nbformat_minor": 5
}
